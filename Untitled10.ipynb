{
 "cells": [
  {
   "cell_type": "code",
   "execution_count": 1,
   "id": "58bd7f76-3415-4ebe-9e4f-15db2f8dbb7f",
   "metadata": {},
   "outputs": [],
   "source": [
    "import torch\n",
    "from torch import nn\n",
    "import torch.optim as optim\n",
    "import torchvision\n",
    "import torchvision.transforms as t\n",
    "from torch.utils.data import DataLoader,Dataset"
   ]
  },
  {
   "cell_type": "code",
   "execution_count": 2,
   "id": "d7f185bb-7c2c-41a0-afef-25c3a0c7e510",
   "metadata": {},
   "outputs": [],
   "source": [
    "# 定义超参数\n",
    "batch_size = 100#每次迭代的数据样本为100个\n",
    "learning_rate = 0.001#学习率精确到0.001\n",
    "num_epochs = 5#测试的次数"
   ]
  },
  {
   "cell_type": "code",
   "execution_count": 3,
   "id": "57ac9ab5-3189-4e6d-a4a7-c1514b7dc7d5",
   "metadata": {},
   "outputs": [],
   "source": [
    "# 数据预处理\n",
    "f = t.Compose([t.ToTensor(), t.Normalize((0.5,), (0.5,))])#将图像转化为FloatTenser并标准化"
   ]
  },
  {
   "cell_type": "code",
   "execution_count": 4,
   "id": "f63c0d14-9b9f-49b0-be0d-54dc65679009",
   "metadata": {},
   "outputs": [],
   "source": [
    "# 加载MNIST数据集\n",
    "train_dataset = torchvision.datasets.MNIST(root='./data',train=True,transform=f,download=True)\n",
    "test_dataset = torchvision.datasets.MNIST(root='./data',train=False,transform=f,download=True)\n"
   ]
  },
  {
   "cell_type": "code",
   "execution_count": 5,
   "id": "50ae0f51-26ac-4918-b487-47252b496a9b",
   "metadata": {},
   "outputs": [],
   "source": [
    "#利用pytorch加载数据集\n",
    "train_loader = DataLoader(dataset=train_dataset, batch_size=batch_size, shuffle=True)\n",
    "test_loader = DataLoader(dataset=test_dataset, batch_size=batch_size, shuffle=False)"
   ]
  },
  {
   "cell_type": "code",
   "execution_count": 6,
   "id": "91ad9849-1d66-4926-bf26-5195da673c45",
   "metadata": {},
   "outputs": [],
   "source": [
    "# 定义神经网络模型\n",
    "class Network(nn.Module):\n",
    "    def __init__(self):\n",
    "        super(Network, self).__init__()\n",
    "        self.lin1 = nn.Linear(28*28, 100)#线性模型\n",
    "        self.lin2 = nn.Linear(100, 10)\n",
    "\n",
    "    def forward(self, x):\n",
    "        x = x.view(-1, 28*28)\n",
    "        x = torch.relu(self.lin1(x))\n",
    "        x = self.lin2(x)\n",
    "        return x\n",
    "\n",
    "\n",
    "model = Network()"
   ]
  },
  {
   "cell_type": "code",
   "execution_count": 7,
   "id": "d2c06ba2-ca04-4d5f-a8f5-bf5ef129e4f3",
   "metadata": {},
   "outputs": [],
   "source": [
    "# 定义损失函数和优化器\n",
    "criterion = nn.CrossEntropyLoss()#定义损失函数\n",
    "optimizer = optim.Adam(model.parameters(), lr=learning_rate)#定义优化器这里选用Adam函数进行"
   ]
  },
  {
   "cell_type": "code",
   "execution_count": 8,
   "id": "b7c00fe5-2cb9-41ae-b9d2-bbfa709c83b5",
   "metadata": {},
   "outputs": [
    {
     "name": "stdout",
     "output_type": "stream",
     "text": [
      "Epoch [1/5], Step [100/600], Loss: 0.4137\n",
      "Epoch [1/5], Step [200/600], Loss: 0.3615\n",
      "Epoch [1/5], Step [300/600], Loss: 0.3069\n",
      "Epoch [1/5], Step [400/600], Loss: 0.3655\n",
      "Epoch [1/5], Step [500/600], Loss: 0.2781\n",
      "Epoch [1/5], Step [600/600], Loss: 0.1429\n",
      "Epoch [2/5], Step [100/600], Loss: 0.2108\n",
      "Epoch [2/5], Step [200/600], Loss: 0.1996\n",
      "Epoch [2/5], Step [300/600], Loss: 0.1570\n",
      "Epoch [2/5], Step [400/600], Loss: 0.2028\n",
      "Epoch [2/5], Step [500/600], Loss: 0.1955\n",
      "Epoch [2/5], Step [600/600], Loss: 0.2781\n",
      "Epoch [3/5], Step [100/600], Loss: 0.1573\n",
      "Epoch [3/5], Step [200/600], Loss: 0.2214\n",
      "Epoch [3/5], Step [300/600], Loss: 0.1710\n",
      "Epoch [3/5], Step [400/600], Loss: 0.0839\n",
      "Epoch [3/5], Step [500/600], Loss: 0.1158\n",
      "Epoch [3/5], Step [600/600], Loss: 0.2107\n",
      "Epoch [4/5], Step [100/600], Loss: 0.0926\n",
      "Epoch [4/5], Step [200/600], Loss: 0.2117\n",
      "Epoch [4/5], Step [300/600], Loss: 0.1386\n",
      "Epoch [4/5], Step [400/600], Loss: 0.1371\n",
      "Epoch [4/5], Step [500/600], Loss: 0.0858\n",
      "Epoch [4/5], Step [600/600], Loss: 0.1696\n",
      "Epoch [5/5], Step [100/600], Loss: 0.1543\n",
      "Epoch [5/5], Step [200/600], Loss: 0.1383\n",
      "Epoch [5/5], Step [300/600], Loss: 0.0738\n",
      "Epoch [5/5], Step [400/600], Loss: 0.0901\n",
      "Epoch [5/5], Step [500/600], Loss: 0.2117\n",
      "Epoch [5/5], Step [600/600], Loss: 0.1621\n",
      "Accuracy of the model on the test images: 96.44%\n"
     ]
    }
   ],
   "source": [
    "# 训练模型\n",
    "for epoch in range(num_epochs):\n",
    "    for i, (images, labels) in enumerate(train_loader):#enumerate用于同时提取图像和其标签\n",
    "        outputs = model(images)#向前传播\n",
    "        loss = criterion(outputs, labels)#计算损失\n",
    "        optimizer.zero_grad()#清除梯度\n",
    "        loss.backward()#计算损失函数的梯度\n",
    "        optimizer.step()#更新参数\n",
    "#如果训练的次数超过100次，则输出训练的损失率\n",
    "        if (i + 1) % 100 == 0:\n",
    "            print(f'Epoch [{epoch + 1}/{num_epochs}], Step [{i + 1}/{len(train_loader)}], Loss: {loss.item():.4f}')\n",
    " # 测试模型\n",
    "with torch.no_grad():#将下列代码设置为不需要计算梯度\n",
    "    correct = 0#记录正确率\n",
    "    total = 0#总样本数\n",
    "    for images, labels in test_loader:\n",
    "        outputs = model(images)#测试模型\n",
    "        _, predicted = torch.max(outputs, 1)#指定索引及最大值并省略最大值\n",
    "        total += labels.size(0)#获取当前样本批次的数目\n",
    "        correct += (predicted == labels).sum().item()#计算正确率并将其转化为python标量\n",
    "    print(f'Accuracy of the model on the test images: {100 * correct / total:.2f}%')"
   ]
  },
  {
   "cell_type": "code",
   "execution_count": null,
   "id": "892c114e-189b-4206-bf6c-3c4a00a7b0eb",
   "metadata": {},
   "outputs": [],
   "source": []
  }
 ],
 "metadata": {
  "kernelspec": {
   "display_name": "Python 3 (ipykernel)",
   "language": "python",
   "name": "python3"
  },
  "language_info": {
   "codemirror_mode": {
    "name": "ipython",
    "version": 3
   },
   "file_extension": ".py",
   "mimetype": "text/x-python",
   "name": "python",
   "nbconvert_exporter": "python",
   "pygments_lexer": "ipython3",
   "version": "3.12.4"
  }
 },
 "nbformat": 4,
 "nbformat_minor": 5
}
